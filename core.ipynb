{
 "cells": [
  {
   "cell_type": "markdown",
   "id": "bbf7d88b",
   "metadata": {},
   "source": [
    "### Kaden Garletts\n",
    "### August 3, 2025"
   ]
  },
  {
   "cell_type": "code",
   "execution_count": null,
   "id": "7f799efe",
   "metadata": {
    "vscode": {
     "languageId": "plaintext"
    }
   },
   "outputs": [],
   "source": []
  }
 ],
 "metadata": {
  "language_info": {
   "name": "python"
  }
 },
 "nbformat": 4,
 "nbformat_minor": 5
}
